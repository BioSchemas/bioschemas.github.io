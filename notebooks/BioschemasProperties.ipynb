{
 "cells": [
  {
   "cell_type": "code",
   "execution_count": null,
   "id": "239dffc4-6f7c-4b93-be8f-f2be4243b205",
   "metadata": {},
   "outputs": [],
   "source": [
    "import sys\n",
    "!{sys.executable} -m pip install rdflib"
   ]
  },
  {
   "cell_type": "code",
   "execution_count": 7,
   "id": "6bae07c0-76c4-4941-97c3-5cd99f67fb1b",
   "metadata": {},
   "outputs": [
    {
     "name": "stdout",
     "output_type": "stream",
     "text": [
      "Requirement already satisfied: pyyaml in c:\\software\\iniforge3\\lib\\site-packages (6.0.2)\n"
     ]
    }
   ],
   "source": [
    "import sys\n",
    "!{sys.executable} -m pip install pyyaml"
   ]
  },
  {
   "cell_type": "code",
   "execution_count": 9,
   "id": "5641415a-538d-4d19-9739-c8f47712cceb",
   "metadata": {},
   "outputs": [],
   "source": [
    "from rdflib import Graph\n",
    "from rdflib import URIRef\n",
    "\n",
    "from rdflib.namespace import RDFS"
   ]
  },
  {
   "cell_type": "code",
   "execution_count": 21,
   "id": "c3b5ac2d-0086-48bb-8a74-a4c0c7f43a7b",
   "metadata": {},
   "outputs": [],
   "source": [
    "#load graph\n",
    "g = Graph()\n",
    "g.parse(\"https://bioschemas.org/types/bioschemas_types.jsonld\")\n",
    "\n",
    "schema_domain = URIRef(\"https://schema.org/domainIncludes\")\n",
    "schema_range = URIRef(\"https://schema.org/rangeIncludes\")\n",
    "bs_ns = \"https://bioschemas.org/terms/\"\n",
    "\n",
    "for s in g.subjects(predicate=schema_domain, unique=True) :\n",
    "    prop_name = str(s).split('/')[-1]\n",
    "    \n",
    "    if bs_ns in s : #it is a bs property, we want to create a page for it\n",
    "        prop_yaml_str = 'prop_name: ' + prop_name + '\\n'\n",
    "        prop_yaml_str +=  'redirect_from: ' + \"/terms/\" + prop_name + '\\n'\n",
    "        prop_yaml_str +=  'description: \"' + g.value(s, RDFS.comment) + '\"\\n'\n",
    "\n",
    "        all_domain = 'used_in_types: \\n'\n",
    "        for prop_domain in g.objects(subject=s, predicate=schema_domain) :\n",
    "            dom_name = str(prop_domain).split('/')[-1]\n",
    "            all_domain += '- ' + dom_name + '\\n'\n",
    "\n",
    "        all_range = 'expected_values_as_type: \\n' \n",
    "        for prop_range in g.objects(subject=s, predicate=schema_range) :\n",
    "            range_name = str(prop_range).split('/')[-1]\n",
    "            all_range += '- ' + range_name + '\\n'\n",
    "\n",
    "        prop_yaml_str += all_domain\n",
    "        prop_yaml_str += all_range\n",
    "        with open(prop_name + '.html', 'w') as file:\n",
    "            file.write(\"---\\n\")\n",
    "            file.write(prop_yaml_str)\n",
    "            file.write(\"\\n---\\n\\n\")\n",
    "            file.write(\"{% include properties.html %}\\n\")\n"
   ]
  },
  {
   "cell_type": "code",
   "execution_count": null,
   "id": "b420daf4-8580-4ebf-98f3-dcfee0485d18",
   "metadata": {},
   "outputs": [],
   "source": []
  }
 ],
 "metadata": {
  "kernelspec": {
   "display_name": "Python 3 (ipykernel)",
   "language": "python",
   "name": "python3"
  },
  "language_info": {
   "codemirror_mode": {
    "name": "ipython",
    "version": 3
   },
   "file_extension": ".py",
   "mimetype": "text/x-python",
   "name": "python",
   "nbconvert_exporter": "python",
   "pygments_lexer": "ipython3",
   "version": "3.12.7"
  }
 },
 "nbformat": 4,
 "nbformat_minor": 5
}
