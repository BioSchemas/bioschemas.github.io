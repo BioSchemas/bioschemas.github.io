{
 "cells": [
  {
   "cell_type": "markdown",
   "id": "ed01a0cd-1fdc-4c34-a88f-0f190e0299ed",
   "metadata": {},
   "source": [
    "# Creation of Bioschemas property pages\n",
    "\n",
    "Based on the JSON-LD from DDE, corresponding to Bioschemas released types, we create a page for each Bioschemas property declared in that file. This script needs to be re-run and pages committed and merged whenever there is a change in the releases types. It uses the modified Bioschemas types file that already uses the canonical Bioschemas URL https://bioschemas.org/terms/"
   ]
  },
  {
   "cell_type": "markdown",
   "id": "08b59295-7fad-4278-8c94-0d42819f60ba",
   "metadata": {},
   "source": [
    "## Installation of packages"
   ]
  },
  {
   "cell_type": "code",
   "execution_count": 1,
   "id": "239dffc4-6f7c-4b93-be8f-f2be4243b205",
   "metadata": {},
   "outputs": [
    {
     "name": "stdout",
     "output_type": "stream",
     "text": [
      "Requirement already satisfied: rdflib in c:\\software\\iniforge3\\lib\\site-packages (7.1.3)\n",
      "Requirement already satisfied: pyparsing<4,>=2.1.0 in c:\\software\\iniforge3\\lib\\site-packages (from rdflib) (3.2.1)\n"
     ]
    }
   ],
   "source": [
    "import sys\n",
    "!{sys.executable} -m pip install rdflib"
   ]
  },
  {
   "cell_type": "code",
   "execution_count": 2,
   "id": "6bae07c0-76c4-4941-97c3-5cd99f67fb1b",
   "metadata": {},
   "outputs": [
    {
     "name": "stdout",
     "output_type": "stream",
     "text": [
      "Requirement already satisfied: pyyaml in c:\\software\\iniforge3\\lib\\site-packages (6.0.2)\n"
     ]
    }
   ],
   "source": [
    "import sys\n",
    "!{sys.executable} -m pip install pyyaml"
   ]
  },
  {
   "cell_type": "code",
   "execution_count": 3,
   "id": "5641415a-538d-4d19-9739-c8f47712cceb",
   "metadata": {},
   "outputs": [],
   "source": [
    "from rdflib import Graph\n",
    "from rdflib import URIRef\n",
    "\n",
    "from rdflib.namespace import RDFS"
   ]
  },
  {
   "cell_type": "markdown",
   "id": "22bf06fe-ba13-4546-a6ae-a3f2e25aace9",
   "metadata": {},
   "source": [
    "## Load the Bioschemas released types JSON-LD as RDF"
   ]
  },
  {
   "cell_type": "code",
   "execution_count": 6,
   "id": "c3b5ac2d-0086-48bb-8a74-a4c0c7f43a7b",
   "metadata": {},
   "outputs": [],
   "source": [
    "#load graph\n",
    "g = Graph()\n",
    "g.parse(\"https://bioschemas.org/types/bioschemas_types.jsonld\")\n",
    "\n",
    "schema_domain = URIRef(\"https://schema.org/domainIncludes\")\n",
    "schema_range = URIRef(\"https://schema.org/rangeIncludes\")\n",
    "bs_ns = \"https://bioschemas.org/terms/\""
   ]
  },
  {
   "cell_type": "markdown",
   "id": "a3ca2232-1e5f-4148-8089-19cb4cfa5c56",
   "metadata": {},
   "source": [
    "## For each property, get the domain and name, and create the corresponding page"
   ]
  },
  {
   "cell_type": "code",
   "execution_count": 11,
   "id": "b420daf4-8580-4ebf-98f3-dcfee0485d18",
   "metadata": {},
   "outputs": [],
   "source": [
    "for s in g.subjects(predicate=schema_domain, unique=True) :\n",
    "    prop_name = str(s).split('/')[-1]\n",
    "    \n",
    "    if bs_ns in s : #it is a bs property, we want to create a page for it\n",
    "        prop_yaml_str = 'prop_name: ' + prop_name + '\\n'\n",
    "        prop_yaml_str +=  'redirect_from: ' + \"/terms/\" + prop_name + '\\n'\n",
    "        prop_yaml_str +=  'description: \"' + g.value(s, RDFS.comment) + '\"\\n'\n",
    "\n",
    "        all_domain = 'used_in_types: \\n'\n",
    "        for prop_domain in g.objects(subject=s, predicate=schema_domain) :\n",
    "            dom_name = str(prop_domain).split('/')[-1]\n",
    "            all_domain += '- ' + dom_name + '\\n'\n",
    "\n",
    "        all_range = 'expected_values_as_type: \\n' \n",
    "        for prop_range in g.objects(subject=s, predicate=schema_range) :\n",
    "            range_name = str(prop_range).split('/')[-1]\n",
    "            all_range += '- [\"' + range_name + '\", \"' + str(prop_range) + '\"]\\n'\n",
    "\n",
    "        prop_yaml_str += all_domain\n",
    "        prop_yaml_str += all_range\n",
    "        with open('../pages/_properties/' + prop_name + '.html', 'w') as file:\n",
    "            file.write(\"---\\n\")\n",
    "            file.write(prop_yaml_str)\n",
    "            file.write(\"\\n---\\n\\n\")\n",
    "            file.write(\"{% include properties.html %}\\n\")"
   ]
  },
  {
   "cell_type": "markdown",
   "id": "b4619d41-26ef-4c7d-a610-bd5b0c2eb503",
   "metadata": {},
   "source": [
    "### ToDo - Improvements \n",
    "- Move the code to a script that can be integrated into GitHub actions\n",
    "- Do something similar for draft properties (requires a modification of the landing page for properties as right now is only a list, supporting released and draft types would require tabs similar to types page)\n"
   ]
  },
  {
   "cell_type": "code",
   "execution_count": null,
   "id": "027029bf-d750-4ff5-9dd2-c3fe68cd9d16",
   "metadata": {},
   "outputs": [],
   "source": []
  }
 ],
 "metadata": {
  "kernelspec": {
   "display_name": "Python 3 (ipykernel)",
   "language": "python",
   "name": "python3"
  },
  "language_info": {
   "codemirror_mode": {
    "name": "ipython",
    "version": 3
   },
   "file_extension": ".py",
   "mimetype": "text/x-python",
   "name": "python",
   "nbconvert_exporter": "python",
   "pygments_lexer": "ipython3",
   "version": "3.12.7"
  }
 },
 "nbformat": 4,
 "nbformat_minor": 5
}
